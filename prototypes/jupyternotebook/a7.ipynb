{
 "cells": [
  {
   "cell_type": "markdown",
   "metadata": {},
   "source": [
    "# Bachelor-Arbeit: 'Unsicherheiten in machine-learning-basierten Surrogatmodellen für die szenariobasierte Validierung autonomer Systeme'\n",
    "\n",
    "Dieses Notebook zeigt Beispiele der wichtigsten Erkenntnisse der Bachelor-Arbeit: 'Unsicherheiten in machine-learning-basierten Surrogatmodellen für die szenariobasierte Validierung autonomer Systeme', wie sie in der Arbeit erwähnt sind."
   ]
  },
  {
   "cell_type": "markdown",
   "metadata": {},
   "source": [
    "## Beispiel: Standardabweichung des Rauschens\n",
    "\n",
    "Die Formel lautet:\n",
    "\n",
    "$$\n",
    "\\sigma = \\sqrt{\\frac{1}{n} \\sum_{i=1}^{n} (y_i - \\hat{y}_i)^2}\n",
    "$$"
   ]
  },
  {
   "cell_type": "code",
   "execution_count": null,
   "metadata": {},
   "outputs": [],
   "source": [
    "import numpy as np\n",
    "import matplotlib.pyplot as plt\n",
    "import pandas as pd\n",
    "\n",
    "# Beispiel-Daten\n",
    "y_true = np.array([3.0, 4.5, 2.8, 5.1, 3.9])\n",
    "y_pred = np.array([2.8, 4.7, 3.0, 4.9, 4.0])\n",
    "\n",
    "# Standardabweichung des Rauschens berechnen\n",
    "residuals = y_true - y_pred\n",
    "sigma = np.sqrt(np.mean(residuals ** 2))\n",
    "print(f\"Standardabweichung des Rauschens: {sigma:.4f}\")"
   ]
  },
  {
   "cell_type": "markdown",
   "metadata": {},
   "source": [
    "## Plot der Residuen"
   ]
  },
  {
   "cell_type": "code",
   "execution_count": null,
   "metadata": {},
   "outputs": [],
   "source": [
    "plt.bar(range(len(residuals)), residuals)\n",
    "plt.axhline(0, color='black', linewidth=0.8)\n",
    "plt.title('Residuen pro Datenpunkt')\n",
    "plt.xlabel('Index')\n",
    "plt.ylabel('Residuum')\n",
    "plt.show()"
   ]
  },
  {
   "cell_type": "markdown",
   "metadata": {},
   "source": [
    "## Tabelle der Werte"
   ]
  },
  {
   "cell_type": "code",
   "execution_count": null,
   "metadata": {},
   "outputs": [],
   "source": [
    "df = pd.DataFrame({\n",
    "    'y_true': y_true,\n",
    "    'y_pred': y_pred,\n",
    "    'residual': residuals\n",
    "})\n",
    "df"
   ]
  }
 ],
 "metadata": {
  "kernelspec": {
   "display_name": "Python 3",
   "language": "python",
   "name": "python3"
  },
  "language_info": {
   "name": "python",
   "version": "3.9"
  }
 },
 "nbformat": 4,
 "nbformat_minor": 5
}
